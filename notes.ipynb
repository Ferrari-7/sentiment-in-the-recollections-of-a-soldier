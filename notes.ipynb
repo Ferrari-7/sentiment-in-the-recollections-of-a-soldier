{
 "cells": [
  {
   "cell_type": "code",
   "execution_count": null,
   "metadata": {},
   "outputs": [],
   "source": [
    "import re"
   ]
  },
  {
   "attachments": {},
   "cell_type": "markdown",
   "metadata": {},
   "source": [
    "## clean up txt file"
   ]
  },
  {
   "cell_type": "code",
   "execution_count": null,
   "metadata": {},
   "outputs": [],
   "source": [
    "import re\n",
    "\n",
    "# getting data of entry : \\w*[D][A][Y],\\s\\w{3}[.]\\s\\d{1,2}[,|.]\\s\\d{4}\n",
    "# (\\w*[D][A][Y],\\s\\w{3}[.]\\s\\d{1,2}[,|.]\\s\\d{4}[.])\n",
    "\n",
    "# Trying to get entry \n",
    "# (?<=\\d{4}[.])()(?=\\n{2})\n",
    "# (?<=\\d{4}[.]\\n)(.+)(?=\\n{3})\n",
    "# (?<=1864[.]\\n{2})(.*)(?=\\n{3})\n",
    "# (?<=1864[.]\\n{2})(?=\\n{3})\n",
    "# (?<=1864[.]\\n{2})(.*\\n)*[^{3}]\n",
    "# WORKED : (?<=1864[.]\\n{2})(.*\\n)+?(?=\\n{2})\n"
   ]
  }
 ],
 "metadata": {
  "language_info": {
   "name": "python"
  },
  "orig_nbformat": 4
 },
 "nbformat": 4,
 "nbformat_minor": 2
}
